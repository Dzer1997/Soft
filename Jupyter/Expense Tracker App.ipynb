{
 "cells": [
  {
   "cell_type": "code",
   "execution_count": 8,
   "id": "5beed9f2",
   "metadata": {},
   "outputs": [],
   "source": [
    "import pandas as pd  # Data handling\n",
    "import matplotlib.pyplot as plt  # Basic plotting\n",
    "import seaborn as sns  # Advanced visualizations\n",
    "import datetime as dt\n",
    "import ipywidgets as widgets\n"
   ]
  },
  {
   "cell_type": "code",
   "execution_count": 28,
   "id": "acf143b2",
   "metadata": {},
   "outputs": [
    {
     "name": "stdout",
     "output_type": "stream",
     "text": [
      "Enter date (dd-mm-yyyy): 20-02-2025\n",
      "Date is valid!\n",
      "Category (Food, Transport, etc.): Food\n",
      "How much? 400\n",
      "Description (Optional): \n",
      "         Date   Category  Amount              Description  Day  Month  Year\n",
      "0  20-02-2025       Food    40.0  No description provided   20      2  2025\n",
      "1  28-02-2025  Transport    80.0  No description provided   28      2  2025\n",
      "2  20-02-2025       Food   400.0  No description provided   20      2  2025\n"
     ]
    }
   ],
   "source": [
    "import pandas as pd\n",
    "\n",
    "def load_data():\n",
    "    try:\n",
    "        df = pd.read_csv(\"data.csv\")\n",
    "        # Ensure the 'Date' column is in the correct format after loading\n",
    "        df[\"Date\"] = pd.to_datetime(df[\"Date\"], format=\"%d-%m-%Y\", errors=\"coerce\").dt.strftime(\"%d-%m-%Y\")\n",
    "    except FileNotFoundError:\n",
    "        df = pd.DataFrame(columns=['Date', 'Category', 'Amount', 'Description'])\n",
    "    return df\n",
    "\n",
    "def save_data(df):\n",
    "    df.to_csv(\"data.csv\", index=False)\n",
    "\n",
    "def add_expense(Date, Category, Amount, Description):\n",
    "    df = load_data()\n",
    "    \n",
    "    new_row = pd.DataFrame({\n",
    "        'Date': [Date.strftime(\"%d-%m-%Y\")],  # Always save as string in dd-mm-yyyy format\n",
    "        'Category': [Category],\n",
    "        'Amount': [Amount],\n",
    "        'Description': [Description]\n",
    "    })\n",
    "    \n",
    "    df = pd.concat([df, new_row], ignore_index=True)\n",
    "    \n",
    "    # Make sure the 'Date' column is consistent\n",
    "    df[\"Date\"] = pd.to_datetime(df[\"Date\"], format=\"%d-%m-%Y\", errors=\"coerce\").dt.strftime(\"%d-%m-%Y\")\n",
    "    \n",
    "    # Add day, month, and year columns\n",
    "    df[\"Day\"] = pd.to_datetime(df[\"Date\"], format=\"%d-%m-%Y\").dt.day\n",
    "    df[\"Month\"] = pd.to_datetime(df[\"Date\"], format=\"%d-%m-%Y\").dt.month\n",
    "    df[\"Year\"] = pd.to_datetime(df[\"Date\"], format=\"%d-%m-%Y\").dt.year\n",
    "    \n",
    "    save_data(df)\n",
    "    return df\n",
    "\n",
    "def summary_view(df, period=\"day\"):\n",
    "    df[\"Date\"] = pd.to_datetime(df[\"Date\"], format=\"%d-%m-%Y\", dayfirst=True)  # Ensure date is in datetime format\n",
    "    df[\"Amount\"] = pd.to_numeric(df[\"Amount\"], errors='coerce')  # Ensure Amount is numeric\n",
    "\n",
    "    if period == \"day\":\n",
    "        summary = df.groupby(df[\"Date\"])[\"Amount\"].sum()\n",
    "    elif period == \"week\":\n",
    "        df[\"Week\"] = df[\"Date\"].dt.to_period(\"W\").astype(str)\n",
    "        summary = df.groupby(\"Week\")[\"Amount\"].sum()\n",
    "    elif period == \"month\":\n",
    "        df[\"Month\"] = df[\"Date\"].dt.to_period(\"M\").astype(str)\n",
    "        summary = df.groupby(\"Month\")[\"Amount\"].sum()\n",
    "    else:\n",
    "        print(\"Invalid period. Choose 'day', 'week', or 'month'.\")\n",
    "        return\n",
    "\n",
    "    print(f\"\\nTotal spending by {period.capitalize()}:\\n\", summary)\n",
    "\n",
    "# Input Expense\n",
    "while True:\n",
    "    Date = input(\"Enter date (dd-mm-yyyy): \").strip()\n",
    "    try:\n",
    "        Date = pd.to_datetime(Date, format=\"%d-%m-%Y\", dayfirst=True)\n",
    "        print(\"Date is valid!\")\n",
    "        break\n",
    "    except ValueError:\n",
    "        print(\"Invalid date format. Please enter dd-mm-yyyy.\")\n",
    "\n",
    "Category = input(\"Category (Food, Transport, etc.): \").strip()\n",
    "\n",
    "while True:\n",
    "    try:\n",
    "        Amount = float(input(\"How much? \"))\n",
    "        break\n",
    "    except ValueError:\n",
    "        print(\"Invalid input. Please enter a valid number.\")\n",
    "\n",
    "Description = input(\"Description (Optional): \").strip()\n",
    "if not Description:\n",
    "    Description = \"No description provided\"\n",
    "\n",
    "# Add Expense and Print Updated DataFrame\n",
    "df = add_expense(Date, Category, Amount, Description)\n",
    "print(df)\n"
   ]
  },
  {
   "cell_type": "code",
   "execution_count": 29,
   "id": "e10641ec",
   "metadata": {},
   "outputs": [
    {
     "name": "stdout",
     "output_type": "stream",
     "text": [
      "\n",
      "Total spending by Day:\n",
      " Date\n",
      "2025-02-20    440.0\n",
      "2025-02-28     80.0\n",
      "Name: Amount, dtype: float64\n",
      "\n",
      "Total spending by Week:\n",
      " Week\n",
      "2025-02-17/2025-02-23    440.0\n",
      "2025-02-24/2025-03-02     80.0\n",
      "Name: Amount, dtype: float64\n",
      "\n",
      "Total spending by Month:\n",
      " Month\n",
      "2025-02    520.0\n",
      "Name: Amount, dtype: float64\n"
     ]
    }
   ],
   "source": [
    "summary_view(df, \"day\")   # Daily total\n",
    "summary_view(df, \"week\")  # Weekly total\n",
    "summary_view(df, \"month\") # Monthly total"
   ]
  },
  {
   "cell_type": "code",
   "execution_count": null,
   "id": "fef033e2",
   "metadata": {},
   "outputs": [],
   "source": []
  },
  {
   "cell_type": "code",
   "execution_count": null,
   "id": "481dd76e",
   "metadata": {},
   "outputs": [],
   "source": []
  }
 ],
 "metadata": {
  "kernelspec": {
   "display_name": "Python 3 (ipykernel)",
   "language": "python",
   "name": "python3"
  },
  "language_info": {
   "codemirror_mode": {
    "name": "ipython",
    "version": 3
   },
   "file_extension": ".py",
   "mimetype": "text/x-python",
   "name": "python",
   "nbconvert_exporter": "python",
   "pygments_lexer": "ipython3",
   "version": "3.11.5"
  }
 },
 "nbformat": 4,
 "nbformat_minor": 5
}
