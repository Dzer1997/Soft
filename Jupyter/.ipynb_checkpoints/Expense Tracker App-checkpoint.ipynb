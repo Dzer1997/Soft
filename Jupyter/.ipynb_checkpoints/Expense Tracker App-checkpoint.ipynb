{
 "cells": [
  {
   "cell_type": "code",
   "execution_count": 19,
   "id": "5beed9f2",
   "metadata": {},
   "outputs": [],
   "source": [
    "import pandas as pd  # Data handling\n",
    "import matplotlib.pyplot as plt  # Basic plotting\n",
    "import seaborn as sns  # Advanced visualizations\n",
    "import datetime as dt\n",
    "import ipywidgets as widgets\n"
   ]
  },
  {
   "cell_type": "code",
   "execution_count": 50,
   "id": "474856f9",
   "metadata": {},
   "outputs": [
    {
     "name": "stdout",
     "output_type": "stream",
     "text": [
      "Enter date (dd-mm-yyyy): 20-02-2025\n",
      "Date is valid!\n",
      "Category (Food, Transport, etc.): Food\n",
      "How much? 6000\n",
      "Description (Optional): \n",
      "\n",
      "Expense Added Successfully!\n",
      "\n",
      "### EXPENSE SUMMARY ###\n",
      "Data after date conversion:\n",
      "         Date Category  Amount              Description  Day  Month  Year\n",
      "0 2025-02-20     Food   500.0  No description provided  NaN    NaN   NaN\n",
      "1 2025-02-20     Food  6000.0  No description provided  NaN    NaN   NaN\n",
      "\n",
      "Total spending by Day:\n",
      " Date\n",
      "2025-02-20    6500.0\n",
      "Name: Amount, dtype: float64\n",
      "Data after date conversion:\n",
      "         Date Category  Amount              Description  Day  Month  Year\n",
      "0 2025-02-20     Food   500.0  No description provided  NaN    NaN   NaN\n",
      "1 2025-02-20     Food  6000.0  No description provided  NaN    NaN   NaN\n",
      "\n",
      "Total spending by Week:\n",
      " Week\n",
      "2025-02-17/2025-02-23    6500.0\n",
      "Name: Amount, dtype: float64\n",
      "Data after date conversion:\n",
      "         Date Category  Amount              Description  Day  Month  Year\n",
      "0 2025-02-20     Food   500.0  No description provided  NaN    NaN   NaN\n",
      "1 2025-02-20     Food  6000.0  No description provided  NaN    NaN   NaN\n",
      "\n",
      "Total spending by Month:\n",
      " Month\n",
      "2025-02    6500.0\n",
      "Name: Amount, dtype: float64\n"
     ]
    },
    {
     "name": "stderr",
     "output_type": "stream",
     "text": [
      "C:\\Users\\ermin\\AppData\\Local\\Temp\\ipykernel_11188\\4184120430.py:7: UserWarning: Parsing dates in %d-%m-%Y format when dayfirst=False (the default) was specified. Pass `dayfirst=True` or specify a format to silence this warning.\n",
      "  df[\"Date\"] = pd.to_datetime(df[\"Date\"], errors='coerce')  # Automatically infer format\n"
     ]
    }
   ],
   "source": [
    "import pandas as pd\n",
    "\n",
    "def load_data():\n",
    "    try:\n",
    "        df = pd.read_csv(\"data.csv\")\n",
    "        # Let pandas automatically infer the date format without forcing dayfirst=True\n",
    "        df[\"Date\"] = pd.to_datetime(df[\"Date\"], errors='coerce')  # Automatically infer format\n",
    "    except (FileNotFoundError, ValueError):\n",
    "        df = pd.DataFrame(columns=['Date', 'Category', 'Amount', 'Description'])\n",
    "    return df\n",
    "\n",
    "def save_data(df):\n",
    "    df.to_csv(\"data.csv\", index=False)\n",
    "\n",
    "def add_expense(Date, Category, Amount, Description):\n",
    "    df = load_data()\n",
    "    \n",
    "    # Ensure the date is in correct string format before saving\n",
    "    new_row = pd.DataFrame({\n",
    "        'Date': [Date.strftime(\"%d-%m-%Y\")],  \n",
    "        'Category': [Category],\n",
    "        'Amount': [Amount],\n",
    "        'Description': [Description]\n",
    "    })\n",
    "    \n",
    "    df = pd.concat([df, new_row], ignore_index=True)\n",
    "    save_data(df)\n",
    "    return df\n",
    "\n",
    "def summary_view(df, period=\"day\"):\n",
    "    # Ensure Amount is numeric\n",
    "    df[\"Amount\"] = pd.to_numeric(df[\"Amount\"], errors='coerce')  \n",
    "    \n",
    "    # Ensure Date is datetime for summary calculations\n",
    "    df[\"Date\"] = pd.to_datetime(df[\"Date\"], errors='coerce')  # Automatically infer the format\n",
    "    \n",
    "    # Debugging - print out the DataFrame after date conversion\n",
    "    print(\"Data after date conversion:\\n\", df)\n",
    "\n",
    "    # Check if there are any NaT values\n",
    "    if df[\"Date\"].isna().any():\n",
    "        print(\"\\nWarning: There are invalid date entries in the data.\")\n",
    "\n",
    "    # Filter out rows where the Date or Amount is NaT or NaN\n",
    "    df = df.dropna(subset=[\"Date\", \"Amount\"])\n",
    "\n",
    "    # Group by the specified period (day, week, or month)\n",
    "    if period == \"day\":\n",
    "        summary = df.groupby(df[\"Date\"])[\"Amount\"].sum()\n",
    "    elif period == \"week\":\n",
    "        df[\"Week\"] = df[\"Date\"].dt.to_period(\"W\").astype(str)\n",
    "        summary = df.groupby(\"Week\")[\"Amount\"].sum()\n",
    "    elif period == \"month\":\n",
    "        df[\"Month\"] = df[\"Date\"].dt.to_period(\"M\").astype(str)\n",
    "        summary = df.groupby(\"Month\")[\"Amount\"].sum()\n",
    "    else:\n",
    "        print(\"Invalid period. Choose 'day', 'week', or 'month'.\")\n",
    "        return\n",
    "\n",
    "    print(f\"\\nTotal spending by {period.capitalize()}:\\n\", summary)\n",
    "\n",
    "# Input Expense\n",
    "while True:\n",
    "    Date = input(\"Enter date (dd-mm-yyyy): \").strip()\n",
    "    try:\n",
    "        Date = pd.to_datetime(Date, format=\"%d-%m-%Y\", dayfirst=True)\n",
    "        print(\"Date is valid!\")\n",
    "        break\n",
    "    except ValueError:\n",
    "        print(\"Invalid date format. Please enter dd-mm-yyyy.\")\n",
    "\n",
    "Category = input(\"Category (Food, Transport, etc.): \").strip()\n",
    "\n",
    "while True:\n",
    "    try:\n",
    "        Amount = float(input(\"How much? \"))\n",
    "        break\n",
    "    except ValueError:\n",
    "        print(\"Invalid input. Please enter a valid number.\")\n",
    "\n",
    "Description = input(\"Description (Optional): \").strip()\n",
    "if not Description:\n",
    "    Description = \"No description provided\"\n",
    "\n",
    "# Add Expense\n",
    "df = add_expense(Date, Category, Amount, Description)\n",
    "print(\"\\nExpense Added Successfully!\")\n"
   ]
  },
  {
   "cell_type": "code",
   "execution_count": 49,
   "id": "e10641ec",
   "metadata": {},
   "outputs": [
    {
     "name": "stdout",
     "output_type": "stream",
     "text": [
      "         Date Category  Amount              Description  Day  Month  Year\n",
      "0  20-02-2025     Food   500.0  No description provided  NaN    NaN   NaN\n"
     ]
    }
   ],
   "source": [
    "df = pd.read_csv(\"data.csv\")\n",
    "print(df)"
   ]
  },
  {
   "cell_type": "code",
   "execution_count": 51,
   "id": "fef033e2",
   "metadata": {},
   "outputs": [
    {
     "name": "stdout",
     "output_type": "stream",
     "text": [
      "Data after date conversion:\n",
      "         Date Category  Amount              Description  Day  Month  Year\n",
      "0 2025-02-20     Food   500.0  No description provided  NaN    NaN   NaN\n",
      "1 2025-02-20     Food  6000.0  No description provided  NaN    NaN   NaN\n",
      "\n",
      "Total spending by Day:\n",
      " Date\n",
      "2025-02-20    6500.0\n",
      "Name: Amount, dtype: float64\n",
      "Data after date conversion:\n",
      "         Date Category  Amount              Description  Day  Month  Year\n",
      "0 2025-02-20     Food   500.0  No description provided  NaN    NaN   NaN\n",
      "1 2025-02-20     Food  6000.0  No description provided  NaN    NaN   NaN\n",
      "\n",
      "Total spending by Week:\n",
      " Week\n",
      "2025-02-17/2025-02-23    6500.0\n",
      "Name: Amount, dtype: float64\n",
      "Data after date conversion:\n",
      "         Date Category  Amount              Description  Day  Month  Year\n",
      "0 2025-02-20     Food   500.0  No description provided  NaN    NaN   NaN\n",
      "1 2025-02-20     Food  6000.0  No description provided  NaN    NaN   NaN\n",
      "\n",
      "Total spending by Month:\n",
      " Month\n",
      "2025-02    6500.0\n",
      "Name: Amount, dtype: float64\n"
     ]
    }
   ],
   "source": [
    "summary_view(df, \"day\")   # Daily total\n",
    "summary_view(df, \"week\")  # Weekly total\n",
    "summary_view(df, \"month\") # Monthly total"
   ]
  },
  {
   "cell_type": "code",
   "execution_count": null,
   "id": "c3031d69",
   "metadata": {},
   "outputs": [],
   "source": []
  }
 ],
 "metadata": {
  "kernelspec": {
   "display_name": "Python 3 (ipykernel)",
   "language": "python",
   "name": "python3"
  },
  "language_info": {
   "codemirror_mode": {
    "name": "ipython",
    "version": 3
   },
   "file_extension": ".py",
   "mimetype": "text/x-python",
   "name": "python",
   "nbconvert_exporter": "python",
   "pygments_lexer": "ipython3",
   "version": "3.11.5"
  }
 },
 "nbformat": 4,
 "nbformat_minor": 5
}
