{
 "cells": [
  {
   "cell_type": "code",
   "execution_count": 7,
   "id": "7cb350f2",
   "metadata": {},
   "outputs": [
    {
     "name": "stdout",
     "output_type": "stream",
     "text": [
      "                   League      Date       HomeTeam   AwayTeam  HomeGoals  \\\n",
      "0  English Premier League  16/08/08        Arsenal  West Brom        1.0   \n",
      "1  English Premier League  16/08/08         Bolton      Stoke        3.0   \n",
      "2  English Premier League  16/08/08        Everton  Blackburn        2.0   \n",
      "3  English Premier League  16/08/08           Hull     Fulham        2.0   \n",
      "4  English Premier League  16/08/08  Middlesbrough  Tottenham        2.0   \n",
      "\n",
      "   AwayGoals Result  \n",
      "0        0.0      H  \n",
      "1        1.0      H  \n",
      "2        3.0      A  \n",
      "3        1.0      H  \n",
      "4        1.0      H  \n"
     ]
    }
   ],
   "source": [
    "import pandas as pd\n",
    "import seaborn as sns\n",
    "import matplotlib.pyplot as plt\n",
    "\n",
    "df = pd.read_csv('English Premier League.csv')\n",
    "print(df.head())"
   ]
  },
  {
   "cell_type": "code",
   "execution_count": 8,
   "id": "edccbb28",
   "metadata": {},
   "outputs": [
    {
     "name": "stdout",
     "output_type": "stream",
     "text": [
      "<class 'pandas.core.frame.DataFrame'>\n",
      "RangeIndex: 12790 entries, 0 to 12789\n",
      "Data columns (total 7 columns):\n",
      " #   Column     Non-Null Count  Dtype  \n",
      "---  ------     --------------  -----  \n",
      " 0   League     12790 non-null  object \n",
      " 1   Date       12093 non-null  object \n",
      " 2   HomeTeam   12093 non-null  object \n",
      " 3   AwayTeam   12093 non-null  object \n",
      " 4   HomeGoals  12093 non-null  float64\n",
      " 5   AwayGoals  12093 non-null  float64\n",
      " 6   Result     12093 non-null  object \n",
      "dtypes: float64(2), object(5)\n",
      "memory usage: 699.6+ KB\n",
      "None\n"
     ]
    }
   ],
   "source": [
    "print(df.info())"
   ]
  },
  {
   "cell_type": "code",
   "execution_count": 9,
   "id": "32884670",
   "metadata": {},
   "outputs": [
    {
     "name": "stdout",
     "output_type": "stream",
     "text": [
      "         HomeGoals     AwayGoals\n",
      "count  12093.00000  12093.000000\n",
      "mean       1.53072      1.162408\n",
      "std        1.30680      1.148898\n",
      "min        0.00000      0.000000\n",
      "25%        1.00000      0.000000\n",
      "50%        1.00000      1.000000\n",
      "75%        2.00000      2.000000\n",
      "max        9.00000      9.000000\n"
     ]
    }
   ],
   "source": [
    "print(df.describe())"
   ]
  },
  {
   "cell_type": "code",
   "execution_count": null,
   "id": "a44e629d",
   "metadata": {},
   "outputs": [],
   "source": []
  }
 ],
 "metadata": {
  "kernelspec": {
   "display_name": "Python 3 (ipykernel)",
   "language": "python",
   "name": "python3"
  },
  "language_info": {
   "codemirror_mode": {
    "name": "ipython",
    "version": 3
   },
   "file_extension": ".py",
   "mimetype": "text/x-python",
   "name": "python",
   "nbconvert_exporter": "python",
   "pygments_lexer": "ipython3",
   "version": "3.11.5"
  }
 },
 "nbformat": 4,
 "nbformat_minor": 5
}
